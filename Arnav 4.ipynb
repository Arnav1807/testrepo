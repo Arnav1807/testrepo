{
 "cells": [
  {
   "cell_type": "markdown",
   "metadata": {},
   "source": [
    "<center>\n",
    "    <img src=\"https://cf-courses-data.s3.us.cloud-object-storage.appdomain.cloud/IBMDeveloperSkillsNetwork-DS0105EN-SkillsNetwork/labs/Module2/images/SN_web_lightmode.png\" width=\"300\" alt=\"cognitiveclass.ai logo\">\n",
    "</center>\n"
   ]
  },
  {
   "cell_type": "markdown",
   "metadata": {},
   "source": [
    "#### Add your code below following the instructions given in the course\n"
   ]
  },
  {
   "cell_type": "markdown",
   "metadata": {
    "tags": []
   },
   "source": [
    "<h1>My Jupyter Notebook on IBM Watson Studio</h1>"
   ]
  },
  {
   "cell_type": "markdown",
   "metadata": {},
   "source": [
    "__Arnav Saxena__\n",
    "<p>My desired occupation is Data Science</p>"
   ]
  },
  {
   "cell_type": "markdown",
   "metadata": {},
   "source": [
    "_I am interested in data science because it is a very interesting work, analyzing and playing with the data to make it more useful for the benefit of everyone is really enthusiastic for me._"
   ]
  },
  {
   "cell_type": "markdown",
   "metadata": {},
   "source": [
    "### This code generates a calculator that will take input and will do operation as the will of the user. (+-*/ operation between two numbers)"
   ]
  },
  {
   "cell_type": "code",
   "execution_count": 12,
   "metadata": {},
   "outputs": [
    {
     "name": "stdin",
     "output_type": "stream",
     "text": [
      "Enter the number: 25\n",
      "Enter the number: 16\n",
      "Enter the operation you want to do: +\n"
     ]
    },
    {
     "name": "stdout",
     "output_type": "stream",
     "text": [
      "The operation is : 41\n"
     ]
    }
   ],
   "source": [
    "a = int(input(\"Enter the number:\"))\n",
    "b = int(input(\"Enter the number:\"))\n",
    "op = input(\"Enter the operation you want to do:\")\n",
    "\n",
    "if op == \"*\":\n",
    "    c = a*b\n",
    "    print(\"The operation is :\", c)\n",
    "\n",
    "elif op == \"+\":\n",
    "    c = a+b\n",
    "    print(\"The operation is :\", c)\n",
    "\n",
    "elif op == \"-\":\n",
    "    c = a-b\n",
    "    print(\"The operation is :\", c)\n",
    "\n",
    "elif op == \"/\":\n",
    "    c = a/b\n",
    "    print(\"The operation is :\", c)\n",
    "else:\n",
    "    print(\"NO operations\")\n",
    " "
   ]
  },
  {
   "cell_type": "markdown",
   "metadata": {},
   "source": [
    "| name | place | animal | word | thing |\n",
    "|------|-------|--------|------|-------|\n",
    "|      |       |        |      |       |\n",
    "|      |       |        |      |       |\n",
    "|      |       |        |      |       |\n",
    "\n",
    "<img src=\"https://cf-courses-data.s3.us.cloud-object-storage.appdomain.cloud/IBMDeveloperSkillsNetwork-DS0105EN-SkillsNetwork/labs/Module2/images/SN_web_lightmode.png\" width=\"250\" alt=\"cognitiveclass.ai logo\">\n",
    "\n",
    "[You Tube](https://www.youtube.com)"
   ]
  }
 ],
 "metadata": {
  "kernelspec": {
   "display_name": "Python",
   "language": "python",
   "name": "conda-env-python-py"
  },
  "language_info": {
   "codemirror_mode": {
    "name": "ipython",
    "version": 3
   },
   "file_extension": ".py",
   "mimetype": "text/x-python",
   "name": "python",
   "nbconvert_exporter": "python",
   "pygments_lexer": "ipython3",
   "version": "3.7.12"
  }
 },
 "nbformat": 4,
 "nbformat_minor": 4
}
